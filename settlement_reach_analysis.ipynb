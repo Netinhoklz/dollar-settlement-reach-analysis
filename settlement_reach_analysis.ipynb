{
 "cells": [
  {
   "cell_type": "markdown",
   "id": "78252b82-7911-4cce-b8cd-2851db2b030d",
   "metadata": {},
   "source": [
    "# Import"
   ]
  },
  {
   "cell_type": "code",
   "execution_count": 55,
   "id": "785e3e1e-84a6-4338-82a8-9b87a41f20b7",
   "metadata": {},
   "outputs": [
    {
     "data": {
      "text/html": [
       "<div>\n",
       "<style scoped>\n",
       "    .dataframe tbody tr th:only-of-type {\n",
       "        vertical-align: middle;\n",
       "    }\n",
       "\n",
       "    .dataframe tbody tr th {\n",
       "        vertical-align: top;\n",
       "    }\n",
       "\n",
       "    .dataframe thead th {\n",
       "        text-align: right;\n",
       "    }\n",
       "</style>\n",
       "<table border=\"1\" class=\"dataframe\">\n",
       "  <thead>\n",
       "    <tr style=\"text-align: right;\">\n",
       "      <th></th>\n",
       "      <th>Data</th>\n",
       "      <th>Abertura</th>\n",
       "      <th>Máxima</th>\n",
       "      <th>Mínima</th>\n",
       "      <th>Fechamento</th>\n",
       "      <th>Prior Cote Ajuste</th>\n",
       "      <th>Cumulative Delta</th>\n",
       "    </tr>\n",
       "  </thead>\n",
       "  <tbody>\n",
       "    <tr>\n",
       "      <th>0</th>\n",
       "      <td>NaT</td>\n",
       "      <td>NaN</td>\n",
       "      <td>NaN</td>\n",
       "      <td>NaN</td>\n",
       "      <td>NaN</td>\n",
       "      <td>NaN</td>\n",
       "      <td>0</td>\n",
       "    </tr>\n",
       "    <tr>\n",
       "      <th>1</th>\n",
       "      <td>NaT</td>\n",
       "      <td>NaN</td>\n",
       "      <td>NaN</td>\n",
       "      <td>NaN</td>\n",
       "      <td>NaN</td>\n",
       "      <td>NaN</td>\n",
       "      <td>0</td>\n",
       "    </tr>\n",
       "    <tr>\n",
       "      <th>2</th>\n",
       "      <td>NaT</td>\n",
       "      <td>NaN</td>\n",
       "      <td>NaN</td>\n",
       "      <td>NaN</td>\n",
       "      <td>NaN</td>\n",
       "      <td>NaN</td>\n",
       "      <td>0</td>\n",
       "    </tr>\n",
       "    <tr>\n",
       "      <th>3</th>\n",
       "      <td>NaT</td>\n",
       "      <td>NaN</td>\n",
       "      <td>NaN</td>\n",
       "      <td>NaN</td>\n",
       "      <td>NaN</td>\n",
       "      <td>NaN</td>\n",
       "      <td>0</td>\n",
       "    </tr>\n",
       "    <tr>\n",
       "      <th>4</th>\n",
       "      <td>NaT</td>\n",
       "      <td>NaN</td>\n",
       "      <td>NaN</td>\n",
       "      <td>NaN</td>\n",
       "      <td>NaN</td>\n",
       "      <td>NaN</td>\n",
       "      <td>0</td>\n",
       "    </tr>\n",
       "    <tr>\n",
       "      <th>...</th>\n",
       "      <td>...</td>\n",
       "      <td>...</td>\n",
       "      <td>...</td>\n",
       "      <td>...</td>\n",
       "      <td>...</td>\n",
       "      <td>...</td>\n",
       "      <td>...</td>\n",
       "    </tr>\n",
       "    <tr>\n",
       "      <th>5522</th>\n",
       "      <td>2025-04-25 09:00:00</td>\n",
       "      <td>5705.5</td>\n",
       "      <td>5712.0</td>\n",
       "      <td>5669.0</td>\n",
       "      <td>5691.5</td>\n",
       "      <td>5688.67</td>\n",
       "      <td>-252811</td>\n",
       "    </tr>\n",
       "    <tr>\n",
       "      <th>5523</th>\n",
       "      <td>2025-04-28 09:00:00</td>\n",
       "      <td>5700.0</td>\n",
       "      <td>5702.5</td>\n",
       "      <td>5648.0</td>\n",
       "      <td>5657.0</td>\n",
       "      <td>5691.50</td>\n",
       "      <td>-392622</td>\n",
       "    </tr>\n",
       "    <tr>\n",
       "      <th>5524</th>\n",
       "      <td>2025-04-29 09:00:00</td>\n",
       "      <td>5661.5</td>\n",
       "      <td>5664.0</td>\n",
       "      <td>5614.0</td>\n",
       "      <td>5615.5</td>\n",
       "      <td>5654.47</td>\n",
       "      <td>-485213</td>\n",
       "    </tr>\n",
       "    <tr>\n",
       "      <th>5525</th>\n",
       "      <td>2025-04-30 09:00:00</td>\n",
       "      <td>5663.0</td>\n",
       "      <td>5727.0</td>\n",
       "      <td>5644.5</td>\n",
       "      <td>5710.5</td>\n",
       "      <td>5633.54</td>\n",
       "      <td>-597920</td>\n",
       "    </tr>\n",
       "    <tr>\n",
       "      <th>5526</th>\n",
       "      <td>2025-05-02 09:00:00</td>\n",
       "      <td>5710.0</td>\n",
       "      <td>5715.0</td>\n",
       "      <td>5664.0</td>\n",
       "      <td>5695.0</td>\n",
       "      <td>5704.00</td>\n",
       "      <td>-605989</td>\n",
       "    </tr>\n",
       "  </tbody>\n",
       "</table>\n",
       "<p>5527 rows × 7 columns</p>\n",
       "</div>"
      ],
      "text/plain": [
       "                    Data  Abertura  Máxima  Mínima  Fechamento  \\\n",
       "0                    NaT       NaN     NaN     NaN         NaN   \n",
       "1                    NaT       NaN     NaN     NaN         NaN   \n",
       "2                    NaT       NaN     NaN     NaN         NaN   \n",
       "3                    NaT       NaN     NaN     NaN         NaN   \n",
       "4                    NaT       NaN     NaN     NaN         NaN   \n",
       "...                  ...       ...     ...     ...         ...   \n",
       "5522 2025-04-25 09:00:00    5705.5  5712.0  5669.0      5691.5   \n",
       "5523 2025-04-28 09:00:00    5700.0  5702.5  5648.0      5657.0   \n",
       "5524 2025-04-29 09:00:00    5661.5  5664.0  5614.0      5615.5   \n",
       "5525 2025-04-30 09:00:00    5663.0  5727.0  5644.5      5710.5   \n",
       "5526 2025-05-02 09:00:00    5710.0  5715.0  5664.0      5695.0   \n",
       "\n",
       "      Prior Cote Ajuste  Cumulative Delta  \n",
       "0                   NaN                 0  \n",
       "1                   NaN                 0  \n",
       "2                   NaN                 0  \n",
       "3                   NaN                 0  \n",
       "4                   NaN                 0  \n",
       "...                 ...               ...  \n",
       "5522            5688.67           -252811  \n",
       "5523            5691.50           -392622  \n",
       "5524            5654.47           -485213  \n",
       "5525            5633.54           -597920  \n",
       "5526            5704.00           -605989  \n",
       "\n",
       "[5527 rows x 7 columns]"
      ]
     },
     "execution_count": 55,
     "metadata": {},
     "output_type": "execute_result"
    }
   ],
   "source": [
    "import pandas as pd\n",
    "\n",
    "data = pd.read_excel(\"historico dolar.xlsx\")\n",
    "data = data[::-1]\n",
    "data.reset_index(drop = True, inplace = True)\n",
    "data"
   ]
  },
  {
   "cell_type": "markdown",
   "id": "9283f2c4-7eaa-48f3-a60a-b990d27c2952",
   "metadata": {},
   "source": [
    "# Quantidade de vezes que vem buscar o Ajuste do dia anterior"
   ]
  },
  {
   "cell_type": "code",
   "execution_count": 56,
   "id": "14a9857e-52dc-4942-b7f4-8fa84019a356",
   "metadata": {},
   "outputs": [
    {
     "data": {
      "text/html": [
       "<div>\n",
       "<style scoped>\n",
       "    .dataframe tbody tr th:only-of-type {\n",
       "        vertical-align: middle;\n",
       "    }\n",
       "\n",
       "    .dataframe tbody tr th {\n",
       "        vertical-align: top;\n",
       "    }\n",
       "\n",
       "    .dataframe thead th {\n",
       "        text-align: right;\n",
       "    }\n",
       "</style>\n",
       "<table border=\"1\" class=\"dataframe\">\n",
       "  <thead>\n",
       "    <tr style=\"text-align: right;\">\n",
       "      <th></th>\n",
       "      <th>Data</th>\n",
       "      <th>Abertura</th>\n",
       "      <th>Máxima</th>\n",
       "      <th>Mínima</th>\n",
       "      <th>Fechamento</th>\n",
       "      <th>Prior Cote Ajuste</th>\n",
       "      <th>Cumulative Delta</th>\n",
       "    </tr>\n",
       "  </thead>\n",
       "  <tbody>\n",
       "    <tr>\n",
       "      <th>0</th>\n",
       "      <td>2012-04-03 09:00:00</td>\n",
       "      <td>1856.0</td>\n",
       "      <td>1856.0</td>\n",
       "      <td>1856.0</td>\n",
       "      <td>1856.0</td>\n",
       "      <td>1822.10</td>\n",
       "      <td>0.0</td>\n",
       "    </tr>\n",
       "    <tr>\n",
       "      <th>1</th>\n",
       "      <td>2012-04-04 09:00:00</td>\n",
       "      <td>1854.0</td>\n",
       "      <td>1854.0</td>\n",
       "      <td>1852.0</td>\n",
       "      <td>1852.0</td>\n",
       "      <td>1842.79</td>\n",
       "      <td>0.0</td>\n",
       "    </tr>\n",
       "    <tr>\n",
       "      <th>2</th>\n",
       "      <td>2012-04-09 09:00:00</td>\n",
       "      <td>1840.0</td>\n",
       "      <td>1840.0</td>\n",
       "      <td>1840.0</td>\n",
       "      <td>1840.0</td>\n",
       "      <td>1841.42</td>\n",
       "      <td>0.0</td>\n",
       "    </tr>\n",
       "    <tr>\n",
       "      <th>3</th>\n",
       "      <td>2012-04-10 09:00:00</td>\n",
       "      <td>1850.0</td>\n",
       "      <td>1850.0</td>\n",
       "      <td>1850.0</td>\n",
       "      <td>1850.0</td>\n",
       "      <td>1837.99</td>\n",
       "      <td>0.0</td>\n",
       "    </tr>\n",
       "    <tr>\n",
       "      <th>4</th>\n",
       "      <td>2012-04-11 09:00:00</td>\n",
       "      <td>1850.0</td>\n",
       "      <td>1852.0</td>\n",
       "      <td>1850.0</td>\n",
       "      <td>1852.0</td>\n",
       "      <td>1827.46</td>\n",
       "      <td>0.0</td>\n",
       "    </tr>\n",
       "    <tr>\n",
       "      <th>...</th>\n",
       "      <td>...</td>\n",
       "      <td>...</td>\n",
       "      <td>...</td>\n",
       "      <td>...</td>\n",
       "      <td>...</td>\n",
       "      <td>...</td>\n",
       "      <td>...</td>\n",
       "    </tr>\n",
       "    <tr>\n",
       "      <th>3098</th>\n",
       "      <td>2025-04-25 09:00:00</td>\n",
       "      <td>5705.5</td>\n",
       "      <td>5712.0</td>\n",
       "      <td>5669.0</td>\n",
       "      <td>5691.5</td>\n",
       "      <td>5718.24</td>\n",
       "      <td>-230782.0</td>\n",
       "    </tr>\n",
       "    <tr>\n",
       "      <th>3099</th>\n",
       "      <td>2025-04-28 09:00:00</td>\n",
       "      <td>5700.0</td>\n",
       "      <td>5702.5</td>\n",
       "      <td>5648.0</td>\n",
       "      <td>5657.0</td>\n",
       "      <td>5688.67</td>\n",
       "      <td>-252811.0</td>\n",
       "    </tr>\n",
       "    <tr>\n",
       "      <th>3100</th>\n",
       "      <td>2025-04-29 09:00:00</td>\n",
       "      <td>5661.5</td>\n",
       "      <td>5664.0</td>\n",
       "      <td>5614.0</td>\n",
       "      <td>5615.5</td>\n",
       "      <td>5691.50</td>\n",
       "      <td>-392622.0</td>\n",
       "    </tr>\n",
       "    <tr>\n",
       "      <th>3101</th>\n",
       "      <td>2025-04-30 09:00:00</td>\n",
       "      <td>5663.0</td>\n",
       "      <td>5727.0</td>\n",
       "      <td>5644.5</td>\n",
       "      <td>5710.5</td>\n",
       "      <td>5654.47</td>\n",
       "      <td>-485213.0</td>\n",
       "    </tr>\n",
       "    <tr>\n",
       "      <th>3102</th>\n",
       "      <td>2025-05-02 09:00:00</td>\n",
       "      <td>5710.0</td>\n",
       "      <td>5715.0</td>\n",
       "      <td>5664.0</td>\n",
       "      <td>5695.0</td>\n",
       "      <td>5633.54</td>\n",
       "      <td>-597920.0</td>\n",
       "    </tr>\n",
       "  </tbody>\n",
       "</table>\n",
       "<p>3103 rows × 7 columns</p>\n",
       "</div>"
      ],
      "text/plain": [
       "                    Data  Abertura  Máxima  Mínima  Fechamento  \\\n",
       "0    2012-04-03 09:00:00    1856.0  1856.0  1856.0      1856.0   \n",
       "1    2012-04-04 09:00:00    1854.0  1854.0  1852.0      1852.0   \n",
       "2    2012-04-09 09:00:00    1840.0  1840.0  1840.0      1840.0   \n",
       "3    2012-04-10 09:00:00    1850.0  1850.0  1850.0      1850.0   \n",
       "4    2012-04-11 09:00:00    1850.0  1852.0  1850.0      1852.0   \n",
       "...                  ...       ...     ...     ...         ...   \n",
       "3098 2025-04-25 09:00:00    5705.5  5712.0  5669.0      5691.5   \n",
       "3099 2025-04-28 09:00:00    5700.0  5702.5  5648.0      5657.0   \n",
       "3100 2025-04-29 09:00:00    5661.5  5664.0  5614.0      5615.5   \n",
       "3101 2025-04-30 09:00:00    5663.0  5727.0  5644.5      5710.5   \n",
       "3102 2025-05-02 09:00:00    5710.0  5715.0  5664.0      5695.0   \n",
       "\n",
       "      Prior Cote Ajuste  Cumulative Delta  \n",
       "0               1822.10               0.0  \n",
       "1               1842.79               0.0  \n",
       "2               1841.42               0.0  \n",
       "3               1837.99               0.0  \n",
       "4               1827.46               0.0  \n",
       "...                 ...               ...  \n",
       "3098            5718.24         -230782.0  \n",
       "3099            5688.67         -252811.0  \n",
       "3100            5691.50         -392622.0  \n",
       "3101            5654.47         -485213.0  \n",
       "3102            5633.54         -597920.0  \n",
       "\n",
       "[3103 rows x 7 columns]"
      ]
     },
     "execution_count": 56,
     "metadata": {},
     "output_type": "execute_result"
    }
   ],
   "source": [
    "data['Prior Cote Ajuste'] = data['Prior Cote Ajuste'].shift(1)\n",
    "data['Cumulative Delta'] = data['Cumulative Delta'].shift(1)\n",
    "data.dropna(inplace = True)\n",
    "data.reset_index(drop = True, inplace = True)\n",
    "data"
   ]
  },
  {
   "cell_type": "code",
   "execution_count": 31,
   "id": "ced0567e-151d-4368-b74d-ec136acdfe64",
   "metadata": {},
   "outputs": [
    {
     "name": "stdout",
     "output_type": "stream",
     "text": [
      "Probabilidade de vir buscar o Ajuste do dia anterior: 46.03%\n"
     ]
    }
   ],
   "source": [
    "data = data.tail(252)\n",
    "data.reset_index(drop = True, inplace = True)\n",
    "contador = 0\n",
    "for x in range(0,data.shape[0]):\n",
    "    if data['Máxima'].iloc[x] >=data['Prior Cote Ajuste'].iloc[x]  and  data['Prior Cote Ajuste'].iloc[x] >=data['Mínima'].iloc[x]:\n",
    "        contador+= 1\n",
    "\n",
    "print(f'Probabilidade de vir buscar o Ajuste do dia anterior: {contador/data.shape[0]:.2%}')"
   ]
  },
  {
   "cell_type": "markdown",
   "id": "1d16b700-7405-481b-be0b-c098315bf1fd",
   "metadata": {},
   "source": [
    "# Se abriu acima do fechamento"
   ]
  },
  {
   "cell_type": "code",
   "execution_count": 13,
   "id": "327efe22-9f46-475d-a38b-7adea7e1d060",
   "metadata": {},
   "outputs": [
    {
     "name": "stdout",
     "output_type": "stream",
     "text": [
      "Probabilidade de vir buscar o Ajuste do dia anterior: 48.06%\n"
     ]
    }
   ],
   "source": [
    "data = data.tail(252)\n",
    "data.reset_index(drop = True, inplace = True)\n",
    "contador = 0\n",
    "for x in range(0,data.shape[0]):\n",
    "    try:\n",
    "        if (data['Máxima'].iloc[x] >=data['Prior Cote Ajuste'].iloc[x])and\\\n",
    "         ( data['Prior Cote Ajuste'].iloc[x] >=data['Mínima'].iloc[x])and\\\n",
    "         (data['Abertura'].iloc[x] >=data['Fechamento'].iloc[x-1]):\n",
    "            contador+= 1\n",
    "    except:\n",
    "        continue\n",
    "\n",
    "print(f'Probabilidade de vir buscar o Ajuste do dia anterior: {contador/data.loc[data['Abertura'] <=data['Fechamento'].shift(1)].shape[0]:.2%}')"
   ]
  },
  {
   "cell_type": "markdown",
   "id": "6f155d00-f717-4c91-8e93-fd6b99b14008",
   "metadata": {},
   "source": [
    "# Se abriu abaixo"
   ]
  },
  {
   "cell_type": "code",
   "execution_count": 14,
   "id": "d5de239b-7c16-4976-a4c9-32d894d67d76",
   "metadata": {},
   "outputs": [
    {
     "name": "stdout",
     "output_type": "stream",
     "text": [
      "Probabilidade de vir buscar o Ajuste do dia anterior: 44.19%\n"
     ]
    }
   ],
   "source": [
    "data = data.tail(252)\n",
    "data.reset_index(drop = True, inplace = True)\n",
    "contador = 0\n",
    "for x in range(0,data.shape[0]):\n",
    "    try:\n",
    "        if (data['Máxima'].iloc[x] >=data['Prior Cote Ajuste'].iloc[x])and\\\n",
    "         ( data['Prior Cote Ajuste'].iloc[x] >=data['Mínima'].iloc[x])and\\\n",
    "         (data['Abertura'].iloc[x] <=data['Fechamento'].iloc[x-1]):\n",
    "            contador+= 1\n",
    "    except:\n",
    "        continue\n",
    "\n",
    "print(f'Probabilidade de vir buscar o Ajuste do dia anterior: {contador/data.loc[data['Abertura'] <=data['Fechamento'].shift(1)].shape[0]:.2%}')"
   ]
  },
  {
   "cell_type": "markdown",
   "id": "cb05073a-cb40-4249-8f93-e9f47b4a86ea",
   "metadata": {},
   "source": [
    "# Sem não romper a máxima"
   ]
  },
  {
   "cell_type": "code",
   "execution_count": 15,
   "id": "0c0ce55a-e912-47d0-9f14-68a49be1a3aa",
   "metadata": {},
   "outputs": [
    {
     "name": "stdout",
     "output_type": "stream",
     "text": [
      "Probabilidade de vir buscar o Ajuste do dia anterior: 38.36%\n"
     ]
    }
   ],
   "source": [
    "data = data.tail(252)\n",
    "data.reset_index(drop = True, inplace = True)\n",
    "contador = 0\n",
    "for x in range(0,data.shape[0]):\n",
    "    try:\n",
    "        if (data['Máxima'].iloc[x] >=data['Prior Cote Ajuste'].iloc[x])and\\\n",
    "         ( data['Prior Cote Ajuste'].iloc[x] >=data['Mínima'].iloc[x])and\\\n",
    "         (data['Abertura'].iloc[x] <=data['Fechamento'].iloc[x-1])and\\\n",
    "        (data['Máxima'].iloc[x] <=data['Máxima'].iloc[x-1]):\n",
    "            contador+= 1\n",
    "    except:\n",
    "        continue\n",
    "\n",
    "print(f'Probabilidade de vir buscar o Ajuste do dia anterior: {contador/data.loc[(data['Abertura']<=data['Fechamento'].shift(1)) & (data['Máxima'] <=data['Máxima'].shift(1))].shape[0]:.2%}')"
   ]
  },
  {
   "cell_type": "markdown",
   "id": "5842e4c3-9815-43b7-b46e-a114a7ccc920",
   "metadata": {},
   "source": [
    "# Se não romper a mínima"
   ]
  },
  {
   "cell_type": "code",
   "execution_count": 16,
   "id": "8f8ecec5-5593-4924-a473-43e3f1593a07",
   "metadata": {},
   "outputs": [
    {
     "name": "stdout",
     "output_type": "stream",
     "text": [
      "Probabilidade de vir buscar o Ajuste do dia anterior: 41.82%\n"
     ]
    }
   ],
   "source": [
    "data = data.tail(252)\n",
    "data.reset_index(drop = True, inplace = True)\n",
    "contador = 0\n",
    "for x in range(0,data.shape[0]):\n",
    "    try:\n",
    "        if (data['Máxima'].iloc[x] >=data['Prior Cote Ajuste'].iloc[x])and\\\n",
    "         ( data['Prior Cote Ajuste'].iloc[x] >=data['Mínima'].iloc[x])and\\\n",
    "         (data['Abertura'].iloc[x] <=data['Fechamento'].iloc[x-1])and\\\n",
    "        (data['Mínima'].iloc[x] >=data['Mínima'].iloc[x-1]):\n",
    "            contador+= 1\n",
    "    except:\n",
    "        continue\n",
    "\n",
    "print(f'Probabilidade de vir buscar o Ajuste do dia anterior: {contador/data.loc[(data['Abertura']<=data['Fechamento'].shift(1)) &(data['Mínima'] >=data['Mínima'].shift(1))].shape[0]:.2%}')"
   ]
  },
  {
   "cell_type": "markdown",
   "id": "2534341d-230d-4daf-8ff2-5593b6e81887",
   "metadata": {},
   "source": [
    "# Cumulative abaixo de zero e abertura abaixo do ajuste"
   ]
  },
  {
   "cell_type": "code",
   "execution_count": 35,
   "id": "bae67dd9-204e-4aa1-954e-35c1251f5c36",
   "metadata": {},
   "outputs": [
    {
     "name": "stdout",
     "output_type": "stream",
     "text": [
      "Probabilidade de vir buscar o Ajuste do dia anterior: 0.5\n"
     ]
    }
   ],
   "source": [
    "data = data.tail(252)\n",
    "data = data.loc[(data['Cumulative Delta'] < 0 ) & (data['Abertura'] < data['Prior Cote Ajuste'])]\n",
    "data.reset_index(drop = True, inplace = True)\n",
    "contador = 0\n",
    "\n",
    "for x in range(0,data.shape[0]):\n",
    "    try:\n",
    "        if (data['Máxima'].iloc[x] >=data['Prior Cote Ajuste'].iloc[x])and\\\n",
    "         ( data['Prior Cote Ajuste'].iloc[x] >=data['Mínima'].iloc[x]):\n",
    "            contador+= 1\n",
    "    except:\n",
    "        continue\n",
    "\n",
    "print(f'Probabilidade de vir buscar o Ajuste do dia anterior: {contador/data.shape[0]}')"
   ]
  },
  {
   "cell_type": "markdown",
   "id": "ca5bfcd6-d7ec-4cf1-b1d4-724191dab30e",
   "metadata": {},
   "source": [
    "# Cumulative abaixo de zero e abertura acima do ajuste"
   ]
  },
  {
   "cell_type": "code",
   "execution_count": 44,
   "id": "11a54433-f50a-4034-8111-4d69935708e0",
   "metadata": {},
   "outputs": [
    {
     "name": "stdout",
     "output_type": "stream",
     "text": [
      "Probabilidade de vir buscar o Ajuste do dia anterior: 0.41228070175438597\n"
     ]
    }
   ],
   "source": [
    "data = data.tail(252)\n",
    "data = data.loc[(data['Cumulative Delta'] < 0) & (data['Abertura'] > data['Prior Cote Ajuste'])]\n",
    "data.reset_index(drop = True, inplace = True)\n",
    "contador = 0\n",
    "\n",
    "for x in range(0,data.shape[0]):\n",
    "    try:\n",
    "        if (data['Máxima'].iloc[x] >=data['Prior Cote Ajuste'].iloc[x])and\\\n",
    "         ( data['Prior Cote Ajuste'].iloc[x] >=data['Mínima'].iloc[x]):\n",
    "            contador+= 1\n",
    "    except:\n",
    "        continue\n",
    "\n",
    "print(f'Probabilidade de vir buscar o Ajuste do dia anterior: {contador/data.shape[0]}')"
   ]
  },
  {
   "cell_type": "markdown",
   "id": "7fdf02a4-e2de-4fbe-80b2-6973dc718c65",
   "metadata": {},
   "source": [
    "# Cumulative Acima de Zero e abertura abaixo do ajuste"
   ]
  },
  {
   "cell_type": "code",
   "execution_count": 47,
   "id": "b69b75e6-45fb-4a90-af8e-8d11abb7f26f",
   "metadata": {},
   "outputs": [
    {
     "name": "stdout",
     "output_type": "stream",
     "text": [
      "Probabilidade de vir buscar o Ajuste do dia anterior: 0.35294117647058826\n"
     ]
    }
   ],
   "source": [
    "data = data.tail(252)\n",
    "data = data.loc[(data['Cumulative Delta'] > 0) & (data['Abertura'] < data['Prior Cote Ajuste'])]\n",
    "data.reset_index(drop = True, inplace = True)\n",
    "contador = 0\n",
    "\n",
    "for x in range(0,data.shape[0]):\n",
    "    try:\n",
    "        if (data['Máxima'].iloc[x] >=data['Prior Cote Ajuste'].iloc[x])and\\\n",
    "         ( data['Prior Cote Ajuste'].iloc[x] >=data['Mínima'].iloc[x]):\n",
    "            contador+= 1\n",
    "    except:\n",
    "        continue\n",
    "\n",
    "print(f'Probabilidade de vir buscar o Ajuste do dia anterior: {contador/data.shape[0]}')"
   ]
  },
  {
   "cell_type": "markdown",
   "id": "54811f36-458d-4b4f-82b0-8d7ee9e709c0",
   "metadata": {},
   "source": [
    "# Cumulative Acima de Zero e abertura acima do ajuste"
   ]
  },
  {
   "cell_type": "code",
   "execution_count": 50,
   "id": "63977b45-2bfe-4116-afde-856089792b1b",
   "metadata": {},
   "outputs": [
    {
     "name": "stdout",
     "output_type": "stream",
     "text": [
      "Probabilidade de vir buscar o Ajuste do dia anterior: 0.6923076923076923\n"
     ]
    }
   ],
   "source": [
    "data = data.tail(252)\n",
    "data = data.loc[(data['Cumulative Delta'] > 0) & (data['Abertura'] > data['Prior Cote Ajuste'])]\n",
    "data.reset_index(drop = True, inplace = True)\n",
    "contador = 0\n",
    "\n",
    "for x in range(0,data.shape[0]):\n",
    "    try:\n",
    "        if (data['Máxima'].iloc[x] >=data['Prior Cote Ajuste'].iloc[x])and\\\n",
    "         ( data['Prior Cote Ajuste'].iloc[x] >=data['Mínima'].iloc[x]):\n",
    "            contador+= 1\n",
    "    except:\n",
    "        continue\n",
    "\n",
    "print(f'Probabilidade de vir buscar o Ajuste do dia anterior: {contador/data.shape[0]}')"
   ]
  },
  {
   "cell_type": "markdown",
   "id": "20ee3010-9908-415d-afb7-8d68b09b5d6f",
   "metadata": {},
   "source": [
    "# Se o cumulative delta está abaixo de zero qual é a probabilidade da abertura ser acima do ajuste"
   ]
  },
  {
   "cell_type": "code",
   "execution_count": 41,
   "id": "20a0ee36-e7ad-4d95-8722-f9c5acd5d5d0",
   "metadata": {},
   "outputs": [
    {
     "name": "stdout",
     "output_type": "stream",
     "text": [
      "Probabilidade de vir buscar o Ajuste do dia anterior: 0.5135135135135135\n"
     ]
    }
   ],
   "source": [
    "data = data.tail(252)\n",
    "data = data.loc[(data['Cumulative Delta'] < 0 )]\n",
    "data.reset_index(drop = True, inplace = True)\n",
    "contador = 0\n",
    "\n",
    "for x in range(0,data.shape[0]):\n",
    "    try:\n",
    "        if (data['Abertura'].iloc[x] >=data['Prior Cote Ajuste'].iloc[x]):\n",
    "            contador+= 1\n",
    "    except:\n",
    "        continue\n",
    "\n",
    "print(f'Probabilidade da Abertura ser maior que o ajuste: {contador/data.shape[0]}')"
   ]
  },
  {
   "cell_type": "markdown",
   "id": "3747a2ea-98c2-40db-8414-96f23636ef25",
   "metadata": {},
   "source": [
    "# Se o cumulative delta está abaixo de zero qual é a probabilidade da abertura ser abaixo do ajuste"
   ]
  },
  {
   "cell_type": "code",
   "execution_count": 53,
   "id": "ac6bdcef-b4cd-4c3d-8543-e0203dacfba8",
   "metadata": {},
   "outputs": [
    {
     "name": "stdout",
     "output_type": "stream",
     "text": [
      "Probabilidade da Abertura ser menor que o ajuste: 0.4864864864864865\n"
     ]
    }
   ],
   "source": [
    "data = data.tail(252)\n",
    "data = data.loc[(data['Cumulative Delta'] < 0 )]\n",
    "data.reset_index(drop = True, inplace = True)\n",
    "contador = 0\n",
    "\n",
    "for x in range(0,data.shape[0]):\n",
    "    try:\n",
    "        if (data['Abertura'].iloc[x] <=data['Prior Cote Ajuste'].iloc[x]):\n",
    "            contador+= 1\n",
    "    except:\n",
    "        continue\n",
    "\n",
    "print(f'Probabilidade da Abertura ser menor que o ajuste: {contador/data.shape[0]}')"
   ]
  },
  {
   "cell_type": "markdown",
   "id": "2ba451ef-b7d2-4d71-a58d-28149130d26d",
   "metadata": {},
   "source": [
    "# Se o cumulative delta está acima de zero qual é a probabilidade da abertura ser acima do ajuste"
   ]
  },
  {
   "cell_type": "code",
   "execution_count": 57,
   "id": "1efc600f-2933-4542-9ab8-f459a08f8144",
   "metadata": {},
   "outputs": [
    {
     "name": "stdout",
     "output_type": "stream",
     "text": [
      "Probabilidade da Abertura ser menor que o ajuste: 0.43333333333333335\n"
     ]
    }
   ],
   "source": [
    "data = data.tail(252)\n",
    "data = data.loc[(data['Cumulative Delta'] > 0 )]\n",
    "data.reset_index(drop = True, inplace = True)\n",
    "contador = 0\n",
    "\n",
    "for x in range(0,data.shape[0]):\n",
    "    try:\n",
    "        if (data['Abertura'].iloc[x] >=data['Prior Cote Ajuste'].iloc[x]):\n",
    "            contador+= 1\n",
    "    except:\n",
    "        continue\n",
    "\n",
    "print(f'Probabilidade da Abertura ser menor que o ajuste: {contador/data.shape[0]}')"
   ]
  },
  {
   "cell_type": "code",
   "execution_count": null,
   "id": "432d959f-937e-4535-bdd7-58cf660886a0",
   "metadata": {},
   "outputs": [],
   "source": []
  },
  {
   "cell_type": "code",
   "execution_count": null,
   "id": "cec3490a-9cbd-447e-995e-2632ae417aee",
   "metadata": {},
   "outputs": [],
   "source": []
  },
  {
   "cell_type": "code",
   "execution_count": null,
   "id": "45ab1fff-435e-4c48-a66c-72cc947ce6f3",
   "metadata": {},
   "outputs": [],
   "source": []
  },
  {
   "cell_type": "code",
   "execution_count": null,
   "id": "8a2f91c0-90bd-4840-9677-6a0629c237d0",
   "metadata": {},
   "outputs": [],
   "source": []
  },
  {
   "cell_type": "code",
   "execution_count": null,
   "id": "c5782678-a496-4c33-9090-26caa715c1d6",
   "metadata": {},
   "outputs": [],
   "source": []
  }
 ],
 "metadata": {
  "kernelspec": {
   "display_name": "Python 3 (ipykernel)",
   "language": "python",
   "name": "python3"
  },
  "language_info": {
   "codemirror_mode": {
    "name": "ipython",
    "version": 3
   },
   "file_extension": ".py",
   "mimetype": "text/x-python",
   "name": "python",
   "nbconvert_exporter": "python",
   "pygments_lexer": "ipython3",
   "version": "3.12.7"
  }
 },
 "nbformat": 4,
 "nbformat_minor": 5
}
