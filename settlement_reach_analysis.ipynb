{
 "cells": [
  {
   "cell_type": "markdown",
   "id": "78252b82-7911-4cce-b8cd-2851db2b030d",
   "metadata": {},
   "source": [
    "# Import"
   ]
  },
  {
   "cell_type": "code",
   "execution_count": 4,
   "id": "785e3e1e-84a6-4338-82a8-9b87a41f20b7",
   "metadata": {},
   "outputs": [
    {
     "data": {
      "text/html": [
       "<div>\n",
       "<style scoped>\n",
       "    .dataframe tbody tr th:only-of-type {\n",
       "        vertical-align: middle;\n",
       "    }\n",
       "\n",
       "    .dataframe tbody tr th {\n",
       "        vertical-align: top;\n",
       "    }\n",
       "\n",
       "    .dataframe thead th {\n",
       "        text-align: right;\n",
       "    }\n",
       "</style>\n",
       "<table border=\"1\" class=\"dataframe\">\n",
       "  <thead>\n",
       "    <tr style=\"text-align: right;\">\n",
       "      <th></th>\n",
       "      <th>Data</th>\n",
       "      <th>Abertura</th>\n",
       "      <th>Máxima</th>\n",
       "      <th>Mínima</th>\n",
       "      <th>Fechamento</th>\n",
       "      <th>Prior Cote Ajuste</th>\n",
       "    </tr>\n",
       "  </thead>\n",
       "  <tbody>\n",
       "    <tr>\n",
       "      <th>0</th>\n",
       "      <td>2012-04-02 09:00:00</td>\n",
       "      <td>1854.0</td>\n",
       "      <td>1856.0</td>\n",
       "      <td>1852.0</td>\n",
       "      <td>1856.0</td>\n",
       "      <td>1822.10</td>\n",
       "    </tr>\n",
       "    <tr>\n",
       "      <th>1</th>\n",
       "      <td>2012-04-03 09:00:00</td>\n",
       "      <td>1856.0</td>\n",
       "      <td>1856.0</td>\n",
       "      <td>1856.0</td>\n",
       "      <td>1856.0</td>\n",
       "      <td>1842.79</td>\n",
       "    </tr>\n",
       "    <tr>\n",
       "      <th>2</th>\n",
       "      <td>2012-04-04 09:00:00</td>\n",
       "      <td>1854.0</td>\n",
       "      <td>1854.0</td>\n",
       "      <td>1852.0</td>\n",
       "      <td>1852.0</td>\n",
       "      <td>1841.42</td>\n",
       "    </tr>\n",
       "    <tr>\n",
       "      <th>3</th>\n",
       "      <td>2012-04-09 09:00:00</td>\n",
       "      <td>1840.0</td>\n",
       "      <td>1840.0</td>\n",
       "      <td>1840.0</td>\n",
       "      <td>1840.0</td>\n",
       "      <td>1837.99</td>\n",
       "    </tr>\n",
       "    <tr>\n",
       "      <th>4</th>\n",
       "      <td>2012-04-10 09:00:00</td>\n",
       "      <td>1850.0</td>\n",
       "      <td>1850.0</td>\n",
       "      <td>1850.0</td>\n",
       "      <td>1850.0</td>\n",
       "      <td>1827.46</td>\n",
       "    </tr>\n",
       "    <tr>\n",
       "      <th>...</th>\n",
       "      <td>...</td>\n",
       "      <td>...</td>\n",
       "      <td>...</td>\n",
       "      <td>...</td>\n",
       "      <td>...</td>\n",
       "      <td>...</td>\n",
       "    </tr>\n",
       "    <tr>\n",
       "      <th>3099</th>\n",
       "      <td>2025-04-25 09:00:00</td>\n",
       "      <td>5705.5</td>\n",
       "      <td>5712.0</td>\n",
       "      <td>5669.0</td>\n",
       "      <td>5691.5</td>\n",
       "      <td>5688.67</td>\n",
       "    </tr>\n",
       "    <tr>\n",
       "      <th>3100</th>\n",
       "      <td>2025-04-28 09:00:00</td>\n",
       "      <td>5700.0</td>\n",
       "      <td>5702.5</td>\n",
       "      <td>5648.0</td>\n",
       "      <td>5657.0</td>\n",
       "      <td>5691.50</td>\n",
       "    </tr>\n",
       "    <tr>\n",
       "      <th>3101</th>\n",
       "      <td>2025-04-29 09:00:00</td>\n",
       "      <td>5661.5</td>\n",
       "      <td>5664.0</td>\n",
       "      <td>5614.0</td>\n",
       "      <td>5615.5</td>\n",
       "      <td>5654.47</td>\n",
       "    </tr>\n",
       "    <tr>\n",
       "      <th>3102</th>\n",
       "      <td>2025-04-30 09:00:00</td>\n",
       "      <td>5663.0</td>\n",
       "      <td>5727.0</td>\n",
       "      <td>5644.5</td>\n",
       "      <td>5710.5</td>\n",
       "      <td>5633.54</td>\n",
       "    </tr>\n",
       "    <tr>\n",
       "      <th>3103</th>\n",
       "      <td>2025-05-02 09:00:00</td>\n",
       "      <td>5710.0</td>\n",
       "      <td>5715.0</td>\n",
       "      <td>5664.0</td>\n",
       "      <td>5695.0</td>\n",
       "      <td>5704.00</td>\n",
       "    </tr>\n",
       "  </tbody>\n",
       "</table>\n",
       "<p>3104 rows × 6 columns</p>\n",
       "</div>"
      ],
      "text/plain": [
       "                    Data  Abertura  Máxima  Mínima  Fechamento  \\\n",
       "0    2012-04-02 09:00:00    1854.0  1856.0  1852.0      1856.0   \n",
       "1    2012-04-03 09:00:00    1856.0  1856.0  1856.0      1856.0   \n",
       "2    2012-04-04 09:00:00    1854.0  1854.0  1852.0      1852.0   \n",
       "3    2012-04-09 09:00:00    1840.0  1840.0  1840.0      1840.0   \n",
       "4    2012-04-10 09:00:00    1850.0  1850.0  1850.0      1850.0   \n",
       "...                  ...       ...     ...     ...         ...   \n",
       "3099 2025-04-25 09:00:00    5705.5  5712.0  5669.0      5691.5   \n",
       "3100 2025-04-28 09:00:00    5700.0  5702.5  5648.0      5657.0   \n",
       "3101 2025-04-29 09:00:00    5661.5  5664.0  5614.0      5615.5   \n",
       "3102 2025-04-30 09:00:00    5663.0  5727.0  5644.5      5710.5   \n",
       "3103 2025-05-02 09:00:00    5710.0  5715.0  5664.0      5695.0   \n",
       "\n",
       "      Prior Cote Ajuste  \n",
       "0               1822.10  \n",
       "1               1842.79  \n",
       "2               1841.42  \n",
       "3               1837.99  \n",
       "4               1827.46  \n",
       "...                 ...  \n",
       "3099            5688.67  \n",
       "3100            5691.50  \n",
       "3101            5654.47  \n",
       "3102            5633.54  \n",
       "3103            5704.00  \n",
       "\n",
       "[3104 rows x 6 columns]"
      ]
     },
     "execution_count": 4,
     "metadata": {},
     "output_type": "execute_result"
    }
   ],
   "source": [
    "import pandas as pd\n",
    "\n",
    "data = pd.read_excel(\"historico dolar.xlsx\")\n",
    "data = data[::-1]\n",
    "data.reset_index(drop = True, inplace = True)\n",
    "data"
   ]
  },
  {
   "cell_type": "markdown",
   "id": "9283f2c4-7eaa-48f3-a60a-b990d27c2952",
   "metadata": {},
   "source": [
    "# Quantidade de vezes que vem buscar o Ajuste do dia anterior"
   ]
  },
  {
   "cell_type": "code",
   "execution_count": 5,
   "id": "14a9857e-52dc-4942-b7f4-8fa84019a356",
   "metadata": {},
   "outputs": [
    {
     "data": {
      "text/html": [
       "<div>\n",
       "<style scoped>\n",
       "    .dataframe tbody tr th:only-of-type {\n",
       "        vertical-align: middle;\n",
       "    }\n",
       "\n",
       "    .dataframe tbody tr th {\n",
       "        vertical-align: top;\n",
       "    }\n",
       "\n",
       "    .dataframe thead th {\n",
       "        text-align: right;\n",
       "    }\n",
       "</style>\n",
       "<table border=\"1\" class=\"dataframe\">\n",
       "  <thead>\n",
       "    <tr style=\"text-align: right;\">\n",
       "      <th></th>\n",
       "      <th>Data</th>\n",
       "      <th>Abertura</th>\n",
       "      <th>Máxima</th>\n",
       "      <th>Mínima</th>\n",
       "      <th>Fechamento</th>\n",
       "      <th>Prior Cote Ajuste</th>\n",
       "    </tr>\n",
       "  </thead>\n",
       "  <tbody>\n",
       "    <tr>\n",
       "      <th>0</th>\n",
       "      <td>2012-04-03 09:00:00</td>\n",
       "      <td>1856.0</td>\n",
       "      <td>1856.0</td>\n",
       "      <td>1856.0</td>\n",
       "      <td>1856.0</td>\n",
       "      <td>1822.10</td>\n",
       "    </tr>\n",
       "    <tr>\n",
       "      <th>1</th>\n",
       "      <td>2012-04-04 09:00:00</td>\n",
       "      <td>1854.0</td>\n",
       "      <td>1854.0</td>\n",
       "      <td>1852.0</td>\n",
       "      <td>1852.0</td>\n",
       "      <td>1842.79</td>\n",
       "    </tr>\n",
       "    <tr>\n",
       "      <th>2</th>\n",
       "      <td>2012-04-09 09:00:00</td>\n",
       "      <td>1840.0</td>\n",
       "      <td>1840.0</td>\n",
       "      <td>1840.0</td>\n",
       "      <td>1840.0</td>\n",
       "      <td>1841.42</td>\n",
       "    </tr>\n",
       "    <tr>\n",
       "      <th>3</th>\n",
       "      <td>2012-04-10 09:00:00</td>\n",
       "      <td>1850.0</td>\n",
       "      <td>1850.0</td>\n",
       "      <td>1850.0</td>\n",
       "      <td>1850.0</td>\n",
       "      <td>1837.99</td>\n",
       "    </tr>\n",
       "    <tr>\n",
       "      <th>4</th>\n",
       "      <td>2012-04-11 09:00:00</td>\n",
       "      <td>1850.0</td>\n",
       "      <td>1852.0</td>\n",
       "      <td>1850.0</td>\n",
       "      <td>1852.0</td>\n",
       "      <td>1827.46</td>\n",
       "    </tr>\n",
       "    <tr>\n",
       "      <th>...</th>\n",
       "      <td>...</td>\n",
       "      <td>...</td>\n",
       "      <td>...</td>\n",
       "      <td>...</td>\n",
       "      <td>...</td>\n",
       "      <td>...</td>\n",
       "    </tr>\n",
       "    <tr>\n",
       "      <th>3098</th>\n",
       "      <td>2025-04-25 09:00:00</td>\n",
       "      <td>5705.5</td>\n",
       "      <td>5712.0</td>\n",
       "      <td>5669.0</td>\n",
       "      <td>5691.5</td>\n",
       "      <td>5718.24</td>\n",
       "    </tr>\n",
       "    <tr>\n",
       "      <th>3099</th>\n",
       "      <td>2025-04-28 09:00:00</td>\n",
       "      <td>5700.0</td>\n",
       "      <td>5702.5</td>\n",
       "      <td>5648.0</td>\n",
       "      <td>5657.0</td>\n",
       "      <td>5688.67</td>\n",
       "    </tr>\n",
       "    <tr>\n",
       "      <th>3100</th>\n",
       "      <td>2025-04-29 09:00:00</td>\n",
       "      <td>5661.5</td>\n",
       "      <td>5664.0</td>\n",
       "      <td>5614.0</td>\n",
       "      <td>5615.5</td>\n",
       "      <td>5691.50</td>\n",
       "    </tr>\n",
       "    <tr>\n",
       "      <th>3101</th>\n",
       "      <td>2025-04-30 09:00:00</td>\n",
       "      <td>5663.0</td>\n",
       "      <td>5727.0</td>\n",
       "      <td>5644.5</td>\n",
       "      <td>5710.5</td>\n",
       "      <td>5654.47</td>\n",
       "    </tr>\n",
       "    <tr>\n",
       "      <th>3102</th>\n",
       "      <td>2025-05-02 09:00:00</td>\n",
       "      <td>5710.0</td>\n",
       "      <td>5715.0</td>\n",
       "      <td>5664.0</td>\n",
       "      <td>5695.0</td>\n",
       "      <td>5633.54</td>\n",
       "    </tr>\n",
       "  </tbody>\n",
       "</table>\n",
       "<p>3103 rows × 6 columns</p>\n",
       "</div>"
      ],
      "text/plain": [
       "                    Data  Abertura  Máxima  Mínima  Fechamento  \\\n",
       "0    2012-04-03 09:00:00    1856.0  1856.0  1856.0      1856.0   \n",
       "1    2012-04-04 09:00:00    1854.0  1854.0  1852.0      1852.0   \n",
       "2    2012-04-09 09:00:00    1840.0  1840.0  1840.0      1840.0   \n",
       "3    2012-04-10 09:00:00    1850.0  1850.0  1850.0      1850.0   \n",
       "4    2012-04-11 09:00:00    1850.0  1852.0  1850.0      1852.0   \n",
       "...                  ...       ...     ...     ...         ...   \n",
       "3098 2025-04-25 09:00:00    5705.5  5712.0  5669.0      5691.5   \n",
       "3099 2025-04-28 09:00:00    5700.0  5702.5  5648.0      5657.0   \n",
       "3100 2025-04-29 09:00:00    5661.5  5664.0  5614.0      5615.5   \n",
       "3101 2025-04-30 09:00:00    5663.0  5727.0  5644.5      5710.5   \n",
       "3102 2025-05-02 09:00:00    5710.0  5715.0  5664.0      5695.0   \n",
       "\n",
       "      Prior Cote Ajuste  \n",
       "0               1822.10  \n",
       "1               1842.79  \n",
       "2               1841.42  \n",
       "3               1837.99  \n",
       "4               1827.46  \n",
       "...                 ...  \n",
       "3098            5718.24  \n",
       "3099            5688.67  \n",
       "3100            5691.50  \n",
       "3101            5654.47  \n",
       "3102            5633.54  \n",
       "\n",
       "[3103 rows x 6 columns]"
      ]
     },
     "execution_count": 5,
     "metadata": {},
     "output_type": "execute_result"
    }
   ],
   "source": [
    "data['Prior Cote Ajuste'] = data['Prior Cote Ajuste'].shift(1)\n",
    "data.dropna(inplace = True)\n",
    "data.reset_index(drop = True, inplace = True)\n",
    "data"
   ]
  },
  {
   "cell_type": "code",
   "execution_count": 6,
   "id": "ced0567e-151d-4368-b74d-ec136acdfe64",
   "metadata": {},
   "outputs": [
    {
     "name": "stdout",
     "output_type": "stream",
     "text": [
      "Probabilidade de vir buscar o Ajuste do dia anterior: 46.03%\n"
     ]
    }
   ],
   "source": [
    "data = data.tail(252)\n",
    "data.reset_index(drop = True, inplace = True)\n",
    "contador = 0\n",
    "for x in range(0,data.shape[0]):\n",
    "    if data['Máxima'].iloc[x] >=data['Prior Cote Ajuste'].iloc[x]  and  data['Prior Cote Ajuste'].iloc[x] >=data['Mínima'].iloc[x]:\n",
    "        contador+= 1\n",
    "\n",
    "print(f'Probabilidade de vir buscar o Ajuste do dia anterior: {contador/data.shape[0]:.2%}')"
   ]
  },
  {
   "cell_type": "markdown",
   "id": "1d16b700-7405-481b-be0b-c098315bf1fd",
   "metadata": {},
   "source": [
    "# Se abriu acima do fechamento"
   ]
  },
  {
   "cell_type": "code",
   "execution_count": 7,
   "id": "327efe22-9f46-475d-a38b-7adea7e1d060",
   "metadata": {},
   "outputs": [
    {
     "name": "stdout",
     "output_type": "stream",
     "text": [
      "Probabilidade de vir buscar o Ajuste do dia anterior: 48.06%\n"
     ]
    }
   ],
   "source": [
    "data = data.tail(252)\n",
    "data.reset_index(drop = True, inplace = True)\n",
    "contador = 0\n",
    "for x in range(0,data.shape[0]):\n",
    "    try:\n",
    "        if (data['Máxima'].iloc[x] >=data['Prior Cote Ajuste'].iloc[x])and\\\n",
    "         ( data['Prior Cote Ajuste'].iloc[x] >=data['Mínima'].iloc[x])and\\\n",
    "         (data['Abertura'].iloc[x] >=data['Fechamento'].iloc[x-1]):\n",
    "            contador+= 1\n",
    "    except:\n",
    "        continue\n",
    "\n",
    "print(f'Probabilidade de vir buscar o Ajuste do dia anterior: {contador/data.loc[data['Abertura'] <=data['Fechamento'].shift(1)].shape[0]:.2%}')"
   ]
  },
  {
   "cell_type": "markdown",
   "id": "6f155d00-f717-4c91-8e93-fd6b99b14008",
   "metadata": {},
   "source": [
    "# Se abriu abaixo"
   ]
  },
  {
   "cell_type": "code",
   "execution_count": 8,
   "id": "d5de239b-7c16-4976-a4c9-32d894d67d76",
   "metadata": {},
   "outputs": [
    {
     "name": "stdout",
     "output_type": "stream",
     "text": [
      "Probabilidade de vir buscar o Ajuste do dia anterior: 44.19%\n"
     ]
    }
   ],
   "source": [
    "data = data.tail(252)\n",
    "data.reset_index(drop = True, inplace = True)\n",
    "contador = 0\n",
    "for x in range(0,data.shape[0]):\n",
    "    try:\n",
    "        if (data['Máxima'].iloc[x] >=data['Prior Cote Ajuste'].iloc[x])and\\\n",
    "         ( data['Prior Cote Ajuste'].iloc[x] >=data['Mínima'].iloc[x])and\\\n",
    "         (data['Abertura'].iloc[x] <=data['Fechamento'].iloc[x-1]):\n",
    "            contador+= 1\n",
    "    except:\n",
    "        continue\n",
    "\n",
    "print(f'Probabilidade de vir buscar o Ajuste do dia anterior: {contador/data.loc[data['Abertura'] <=data['Fechamento'].shift(1)].shape[0]:.2%}')"
   ]
  },
  {
   "cell_type": "markdown",
   "id": "cb05073a-cb40-4249-8f93-e9f47b4a86ea",
   "metadata": {},
   "source": [
    "# Sem não romper a máxima"
   ]
  },
  {
   "cell_type": "code",
   "execution_count": 9,
   "id": "0c0ce55a-e912-47d0-9f14-68a49be1a3aa",
   "metadata": {},
   "outputs": [
    {
     "name": "stdout",
     "output_type": "stream",
     "text": [
      "Probabilidade de vir buscar o Ajuste do dia anterior: 38.36%\n"
     ]
    }
   ],
   "source": [
    "data = data.tail(252)\n",
    "data.reset_index(drop = True, inplace = True)\n",
    "contador = 0\n",
    "for x in range(0,data.shape[0]):\n",
    "    try:\n",
    "        if (data['Máxima'].iloc[x] >=data['Prior Cote Ajuste'].iloc[x])and\\\n",
    "         ( data['Prior Cote Ajuste'].iloc[x] >=data['Mínima'].iloc[x])and\\\n",
    "         (data['Abertura'].iloc[x] <=data['Fechamento'].iloc[x-1])and\\\n",
    "        (data['Máxima'].iloc[x] <=data['Máxima'].iloc[x-1]):\n",
    "            contador+= 1\n",
    "    except:\n",
    "        continue\n",
    "\n",
    "print(f'Probabilidade de vir buscar o Ajuste do dia anterior: {contador/data.loc[(data['Abertura']<=data['Fechamento'].shift(1)) & (data['Máxima'] <=data['Máxima'].shift(1))].shape[0]:.2%}')"
   ]
  },
  {
   "cell_type": "markdown",
   "id": "5842e4c3-9815-43b7-b46e-a114a7ccc920",
   "metadata": {},
   "source": [
    "# Se não romper a mínima"
   ]
  },
  {
   "cell_type": "code",
   "execution_count": 10,
   "id": "8f8ecec5-5593-4924-a473-43e3f1593a07",
   "metadata": {},
   "outputs": [
    {
     "name": "stdout",
     "output_type": "stream",
     "text": [
      "Probabilidade de vir buscar o Ajuste do dia anterior: 41.82%\n"
     ]
    }
   ],
   "source": [
    "data = data.tail(252)\n",
    "data.reset_index(drop = True, inplace = True)\n",
    "contador = 0\n",
    "for x in range(0,data.shape[0]):\n",
    "    try:\n",
    "        if (data['Máxima'].iloc[x] >=data['Prior Cote Ajuste'].iloc[x])and\\\n",
    "         ( data['Prior Cote Ajuste'].iloc[x] >=data['Mínima'].iloc[x])and\\\n",
    "         (data['Abertura'].iloc[x] <=data['Fechamento'].iloc[x-1])and\\\n",
    "        (data['Mínima'].iloc[x] >=data['Mínima'].iloc[x-1]):\n",
    "            contador+= 1\n",
    "    except:\n",
    "        continue\n",
    "\n",
    "print(f'Probabilidade de vir buscar o Ajuste do dia anterior: {contador/data.loc[(data['Abertura']<=data['Fechamento'].shift(1)) &(data['Mínima'] >=data['Mínima'].shift(1))].shape[0]:.2%}')"
   ]
  },
  {
   "cell_type": "code",
   "execution_count": null,
   "id": "4a784496-bb4a-4fd4-a26b-4b5eebc28480",
   "metadata": {},
   "outputs": [],
   "source": []
  },
  {
   "cell_type": "code",
   "execution_count": null,
   "id": "64a95cb5-0cc9-4f07-a2ff-836be25c4d79",
   "metadata": {},
   "outputs": [],
   "source": []
  },
  {
   "cell_type": "code",
   "execution_count": null,
   "id": "bae67dd9-204e-4aa1-954e-35c1251f5c36",
   "metadata": {},
   "outputs": [],
   "source": []
  },
  {
   "cell_type": "code",
   "execution_count": null,
   "id": "20a0ee36-e7ad-4d95-8722-f9c5acd5d5d0",
   "metadata": {},
   "outputs": [],
   "source": []
  }
 ],
 "metadata": {
  "kernelspec": {
   "display_name": "Python 3 (ipykernel)",
   "language": "python",
   "name": "python3"
  },
  "language_info": {
   "codemirror_mode": {
    "name": "ipython",
    "version": 3
   },
   "file_extension": ".py",
   "mimetype": "text/x-python",
   "name": "python",
   "nbconvert_exporter": "python",
   "pygments_lexer": "ipython3",
   "version": "3.12.7"
  }
 },
 "nbformat": 4,
 "nbformat_minor": 5
}
